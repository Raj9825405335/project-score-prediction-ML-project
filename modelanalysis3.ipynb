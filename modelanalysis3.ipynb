{
 "cells": [
  {
   "cell_type": "code",
   "execution_count": 22,
   "metadata": {},
   "outputs": [
    {
     "name": "stdout",
     "output_type": "stream",
     "text": [
      "<class 'pandas.core.frame.DataFrame'>\n",
      "RangeIndex: 304 entries, 0 to 303\n",
      "Data columns (total 8 columns):\n",
      " #   Column                   Non-Null Count  Dtype  \n",
      "---  ------                   --------------  -----  \n",
      " 0   proj_id                  304 non-null    int64  \n",
      " 1   project_title            304 non-null    object \n",
      " 2   team_members             304 non-null    int64  \n",
      " 3   time_weeks               304 non-null    int64  \n",
      " 4   presentation_score(1-5)  304 non-null    float64\n",
      " 5   invigilators_review      304 non-null    object \n",
      " 6   review_sentiment         304 non-null    float64\n",
      " 7   Project_Overall_score    304 non-null    float64\n",
      "dtypes: float64(3), int64(3), object(2)\n",
      "memory usage: 19.1+ KB\n"
     ]
    }
   ],
   "source": [
    "import pandas as pd\n",
    "import seaborn as sns\n",
    "trl=pd.read_csv('trial3.csv')\n",
    "trl.info()"
   ]
  },
  {
   "cell_type": "code",
   "execution_count": 23,
   "metadata": {},
   "outputs": [
    {
     "data": {
      "text/html": [
       "<div>\n",
       "<style scoped>\n",
       "    .dataframe tbody tr th:only-of-type {\n",
       "        vertical-align: middle;\n",
       "    }\n",
       "\n",
       "    .dataframe tbody tr th {\n",
       "        vertical-align: top;\n",
       "    }\n",
       "\n",
       "    .dataframe thead th {\n",
       "        text-align: right;\n",
       "    }\n",
       "</style>\n",
       "<table border=\"1\" class=\"dataframe\">\n",
       "  <thead>\n",
       "    <tr style=\"text-align: right;\">\n",
       "      <th></th>\n",
       "      <th>proj_id</th>\n",
       "      <th>project_title</th>\n",
       "      <th>team_members</th>\n",
       "      <th>time_weeks</th>\n",
       "      <th>presentation_score(1-5)</th>\n",
       "      <th>invigilators_review</th>\n",
       "      <th>review_sentiment</th>\n",
       "      <th>Project_Overall_score</th>\n",
       "    </tr>\n",
       "  </thead>\n",
       "  <tbody>\n",
       "    <tr>\n",
       "      <th>0</th>\n",
       "      <td>2001</td>\n",
       "      <td>Diabetes detection ML project</td>\n",
       "      <td>3</td>\n",
       "      <td>7</td>\n",
       "      <td>4.5</td>\n",
       "      <td>Great job on completing the project within th...</td>\n",
       "      <td>0.6249</td>\n",
       "      <td>88.6049</td>\n",
       "    </tr>\n",
       "    <tr>\n",
       "      <th>1</th>\n",
       "      <td>2002</td>\n",
       "      <td>Developing a marketing strategy for a new pro...</td>\n",
       "      <td>2</td>\n",
       "      <td>6</td>\n",
       "      <td>4.3</td>\n",
       "      <td>The team showed excellent technical skills an...</td>\n",
       "      <td>0.5719</td>\n",
       "      <td>85.0719</td>\n",
       "    </tr>\n",
       "    <tr>\n",
       "      <th>2</th>\n",
       "      <td>2003</td>\n",
       "      <td>Creating a business plan for a social enterprise</td>\n",
       "      <td>3</td>\n",
       "      <td>3</td>\n",
       "      <td>4.4</td>\n",
       "      <td>Well-organized and structured project plan.</td>\n",
       "      <td>0.0000</td>\n",
       "      <td>87.6000</td>\n",
       "    </tr>\n",
       "    <tr>\n",
       "      <th>3</th>\n",
       "      <td>2004</td>\n",
       "      <td>Designing a sustainable packaging solution fo...</td>\n",
       "      <td>3</td>\n",
       "      <td>7</td>\n",
       "      <td>4.4</td>\n",
       "      <td>Impressive presentation skills and clear commu...</td>\n",
       "      <td>0.7096</td>\n",
       "      <td>86.7596</td>\n",
       "    </tr>\n",
       "    <tr>\n",
       "      <th>4</th>\n",
       "      <td>2005</td>\n",
       "      <td>Implementing a customer satisfaction survey a...</td>\n",
       "      <td>2</td>\n",
       "      <td>8</td>\n",
       "      <td>3.7</td>\n",
       "      <td>Attention to detail in project implementation ...</td>\n",
       "      <td>0.0000</td>\n",
       "      <td>72.0900</td>\n",
       "    </tr>\n",
       "  </tbody>\n",
       "</table>\n",
       "</div>"
      ],
      "text/plain": [
       "   proj_id                                      project_title  team_members  \\\n",
       "0     2001                      Diabetes detection ML project             3   \n",
       "1     2002   Developing a marketing strategy for a new pro...             2   \n",
       "2     2003   Creating a business plan for a social enterprise             3   \n",
       "3     2004   Designing a sustainable packaging solution fo...             3   \n",
       "4     2005   Implementing a customer satisfaction survey a...             2   \n",
       "\n",
       "   time_weeks  presentation_score(1-5)  \\\n",
       "0           7                      4.5   \n",
       "1           6                      4.3   \n",
       "2           3                      4.4   \n",
       "3           7                      4.4   \n",
       "4           8                      3.7   \n",
       "\n",
       "                                 invigilators_review  review_sentiment  \\\n",
       "0   Great job on completing the project within th...            0.6249   \n",
       "1   The team showed excellent technical skills an...            0.5719   \n",
       "2        Well-organized and structured project plan.            0.0000   \n",
       "3  Impressive presentation skills and clear commu...            0.7096   \n",
       "4  Attention to detail in project implementation ...            0.0000   \n",
       "\n",
       "   Project_Overall_score  \n",
       "0                88.6049  \n",
       "1                85.0719  \n",
       "2                87.6000  \n",
       "3                86.7596  \n",
       "4                72.0900  "
      ]
     },
     "execution_count": 23,
     "metadata": {},
     "output_type": "execute_result"
    }
   ],
   "source": [
    "import pandas as pd\n",
    "\n",
    "trl=pd.read_csv('trial3.csv')\n",
    "trl.head()\n"
   ]
  },
  {
   "cell_type": "code",
   "execution_count": 24,
   "metadata": {},
   "outputs": [
    {
     "data": {
      "text/html": [
       "<div>\n",
       "<style scoped>\n",
       "    .dataframe tbody tr th:only-of-type {\n",
       "        vertical-align: middle;\n",
       "    }\n",
       "\n",
       "    .dataframe tbody tr th {\n",
       "        vertical-align: top;\n",
       "    }\n",
       "\n",
       "    .dataframe thead th {\n",
       "        text-align: right;\n",
       "    }\n",
       "</style>\n",
       "<table border=\"1\" class=\"dataframe\">\n",
       "  <thead>\n",
       "    <tr style=\"text-align: right;\">\n",
       "      <th></th>\n",
       "      <th>proj_id</th>\n",
       "      <th>team_members</th>\n",
       "      <th>time_weeks</th>\n",
       "      <th>presentation_score(1-5)</th>\n",
       "      <th>review_sentiment</th>\n",
       "      <th>Project_Overall_score</th>\n",
       "    </tr>\n",
       "  </thead>\n",
       "  <tbody>\n",
       "    <tr>\n",
       "      <th>count</th>\n",
       "      <td>304.00000</td>\n",
       "      <td>304.000000</td>\n",
       "      <td>304.000000</td>\n",
       "      <td>304.000000</td>\n",
       "      <td>304.000000</td>\n",
       "      <td>304.000000</td>\n",
       "    </tr>\n",
       "    <tr>\n",
       "      <th>mean</th>\n",
       "      <td>2152.50000</td>\n",
       "      <td>2.898026</td>\n",
       "      <td>6.328947</td>\n",
       "      <td>3.902961</td>\n",
       "      <td>0.444046</td>\n",
       "      <td>77.118106</td>\n",
       "    </tr>\n",
       "    <tr>\n",
       "      <th>std</th>\n",
       "      <td>87.90146</td>\n",
       "      <td>1.261042</td>\n",
       "      <td>1.580727</td>\n",
       "      <td>0.727052</td>\n",
       "      <td>0.249468</td>\n",
       "      <td>14.140459</td>\n",
       "    </tr>\n",
       "    <tr>\n",
       "      <th>min</th>\n",
       "      <td>2001.00000</td>\n",
       "      <td>1.000000</td>\n",
       "      <td>2.000000</td>\n",
       "      <td>1.500000</td>\n",
       "      <td>-0.273200</td>\n",
       "      <td>29.840000</td>\n",
       "    </tr>\n",
       "    <tr>\n",
       "      <th>25%</th>\n",
       "      <td>2076.75000</td>\n",
       "      <td>2.000000</td>\n",
       "      <td>5.000000</td>\n",
       "      <td>3.600000</td>\n",
       "      <td>0.381800</td>\n",
       "      <td>70.731900</td>\n",
       "    </tr>\n",
       "    <tr>\n",
       "      <th>50%</th>\n",
       "      <td>2152.50000</td>\n",
       "      <td>3.000000</td>\n",
       "      <td>7.000000</td>\n",
       "      <td>4.000000</td>\n",
       "      <td>0.476700</td>\n",
       "      <td>79.411300</td>\n",
       "    </tr>\n",
       "    <tr>\n",
       "      <th>75%</th>\n",
       "      <td>2228.25000</td>\n",
       "      <td>4.000000</td>\n",
       "      <td>8.000000</td>\n",
       "      <td>4.500000</td>\n",
       "      <td>0.636900</td>\n",
       "      <td>88.670800</td>\n",
       "    </tr>\n",
       "    <tr>\n",
       "      <th>max</th>\n",
       "      <td>2304.00000</td>\n",
       "      <td>6.000000</td>\n",
       "      <td>8.000000</td>\n",
       "      <td>4.900000</td>\n",
       "      <td>0.790600</td>\n",
       "      <td>97.321500</td>\n",
       "    </tr>\n",
       "  </tbody>\n",
       "</table>\n",
       "</div>"
      ],
      "text/plain": [
       "          proj_id  team_members  time_weeks  presentation_score(1-5)  \\\n",
       "count   304.00000    304.000000  304.000000               304.000000   \n",
       "mean   2152.50000      2.898026    6.328947                 3.902961   \n",
       "std      87.90146      1.261042    1.580727                 0.727052   \n",
       "min    2001.00000      1.000000    2.000000                 1.500000   \n",
       "25%    2076.75000      2.000000    5.000000                 3.600000   \n",
       "50%    2152.50000      3.000000    7.000000                 4.000000   \n",
       "75%    2228.25000      4.000000    8.000000                 4.500000   \n",
       "max    2304.00000      6.000000    8.000000                 4.900000   \n",
       "\n",
       "       review_sentiment  Project_Overall_score  \n",
       "count        304.000000             304.000000  \n",
       "mean           0.444046              77.118106  \n",
       "std            0.249468              14.140459  \n",
       "min           -0.273200              29.840000  \n",
       "25%            0.381800              70.731900  \n",
       "50%            0.476700              79.411300  \n",
       "75%            0.636900              88.670800  \n",
       "max            0.790600              97.321500  "
      ]
     },
     "execution_count": 24,
     "metadata": {},
     "output_type": "execute_result"
    }
   ],
   "source": [
    "trl.describe()\n"
   ]
  },
  {
   "cell_type": "code",
   "execution_count": 25,
   "metadata": {},
   "outputs": [
    {
     "name": "stdout",
     "output_type": "stream",
     "text": [
      "Project_Overall_score      1.000000\n",
      "presentation_score(1-5)    0.999106\n",
      "team_members               0.689143\n",
      "review_sentiment           0.181682\n",
      "proj_id                    0.041445\n",
      "time_weeks                -0.044496\n",
      "Name: Project_Overall_score, dtype: float64\n"
     ]
    }
   ],
   "source": [
    "import pandas as pd\n",
    "\n",
    "# Exclude non-numeric columns from correlation calculation\n",
    "numeric_columns = trl.select_dtypes(include=[float, int]).columns\n",
    "trl_numeric = trl[numeric_columns]\n",
    "\n",
    "# Calculate the correlation matrix\n",
    "corr_check = trl_numeric.corr()\n",
    "\n",
    "# Sort the correlation values for the 'Project_Overall_score' column in descending order\n",
    "correlation_scores = corr_check['Project_Overall_score'].sort_values(ascending=False)\n",
    "\n",
    "print(correlation_scores)\n"
   ]
  },
  {
   "attachments": {},
   "cell_type": "markdown",
   "metadata": {},
   "source": [
    "## presentation_score(1-5)=    0.999106\n",
    "## time_weeks       =     -0.044496\n",
    "\n",
    " \n",
    " ## Here presentation_score shows strong positive correlation  on project_overall_score.The good will be presentation, the more will be marks while project completion time has strong negative correlation i.e team taking less time to complete the project seems to  score more marks."
   ]
  },
  {
   "cell_type": "code",
   "execution_count": 26,
   "metadata": {},
   "outputs": [
    {
     "data": {
      "text/plain": [
       "<Axes: xlabel='presentation_score(1-5)', ylabel='Project_Overall_score'>"
      ]
     },
     "execution_count": 26,
     "metadata": {},
     "output_type": "execute_result"
    },
    {
     "data": {
      "image/png": "[encoded data removed]",
      "text/plain": [
       "<Figure size 640x480 with 1 Axes>"
      ]
     },
     "metadata": {},
     "output_type": "display_data"
    }
   ],
   "source": [
    "import seaborn as sns\n",
    "sns.lineplot(x=trl['presentation_score(1-5)'],y=trl['Project_Overall_score'])"
   ]
  },
  {
   "attachments": {},
   "cell_type": "markdown",
   "metadata": {},
   "source": []
  },
  {
   "attachments": {},
   "cell_type": "markdown",
   "metadata": {},
   "source": [
    "## Here the above lineplot shows that the presentation score is directly proportional to the project's overall score."
   ]
  },
  {
   "cell_type": "code",
   "execution_count": 27,
   "metadata": {},
   "outputs": [
    {
     "data": {
      "text/plain": [
       "<Axes: xlabel='time_weeks', ylabel='Project_Overall_score'>"
      ]
     },
     "execution_count": 27,
     "metadata": {},
     "output_type": "execute_result"
    },
    {
     "data": {
      "image/png": "[encoded data removed]",
      "text/plain": [
       "<Figure size 640x480 with 1 Axes>"
      ]
     },
     "metadata": {},
     "output_type": "display_data"
    }
   ],
   "source": [
    "\n",
    "sns.lineplot(x=trl['time_weeks'],y=trl['Project_Overall_score'])"
   ]
  },
  {
   "attachments": {},
   "cell_type": "markdown",
   "metadata": {},
   "source": [
    "## The above's lineplot indicates that the team/project taking less time to complete the project seems to score better."
   ]
  },
  {
   "cell_type": "code",
   "execution_count": 28,
   "metadata": {},
   "outputs": [
    {
     "data": {
      "text/plain": [
       "<Axes: xlabel='team_members', ylabel='Project_Overall_score'>"
      ]
     },
     "execution_count": 28,
     "metadata": {},
     "output_type": "execute_result"
    },
    {
     "data": {
      "image/png": "[encoded data removed]",
      "text/plain": [
       "<Figure size 640x480 with 1 Axes>"
      ]
     },
     "metadata": {},
     "output_type": "display_data"
    }
   ],
   "source": [
    "trl.plot(kind='scatter', x='team_members',y='Project_Overall_score')"
   ]
  },
  {
   "attachments": {},
   "cell_type": "markdown",
   "metadata": {},
   "source": [
    "## The above graph shows that a strong team collaboration with their varied ideas and findings leads to a complete and successful project. "
   ]
  },
  {
   "cell_type": "code",
   "execution_count": 29,
   "metadata": {},
   "outputs": [
    {
     "data": {
      "text/plain": [
       "<Axes: xlabel='review_sentiment', ylabel='Project_Overall_score'>"
      ]
     },
     "execution_count": 29,
     "metadata": {},
     "output_type": "execute_result"
    },
    {
     "data": {
      "image/png": "[encoded data removed]",
      "text/plain": [
       "<Figure size 640x480 with 1 Axes>"
      ]
     },
     "metadata": {},
     "output_type": "display_data"
    }
   ],
   "source": [
    "\n",
    "sns.lineplot(x=trl['review_sentiment'],y=trl['Project_Overall_score'])"
   ]
  },
  {
   "cell_type": "code",
   "execution_count": 30,
   "metadata": {},
   "outputs": [
    {
     "name": "stdout",
     "output_type": "stream",
     "text": [
      "Mean Squared Error (MSE): 33.375992970662246\n",
      "Root Mean Squared Error (RMSE): 5.777195943592552\n",
      "R-squared: 0.8081052928779348\n",
      "Sentiment Compound Score: 0.6249\n",
      "Predicted Project Overall Score: 87.51389580086435\n",
      "Satisfactory. More extra effort is needed to this team. \n",
      "Accuracy: 80.81052928779347%\n"
     ]
    }
   ],
   "source": [
    "import numpy as np\n",
    "import pandas as pd\n",
    "\n",
    "data=pd.read_csv('trial3.csv')\n",
    "\n",
    "X = data[['team_members','time_weeks','presentation_score(1-5)']]\n",
    "y = data['Project_Overall_score']\n",
    "\n",
    "\n",
    "from sklearn.model_selection import train_test_split\n",
    "\n",
    "X_train, X_test, y_train, y_test = train_test_split(X, y, test_size=0.2, random_state=42)\n",
    "\n",
    "from sklearn.svm import SVR\n",
    "model = SVR()\n",
    "model.fit(X_train, y_train)\n",
    "\n",
    "from sklearn.metrics import mean_squared_error, r2_score\n",
    "from math import sqrt\n",
    "\n",
    "import nltk\n",
    "from nltk.sentiment import SentimentIntensityAnalyzer\n",
    "\n",
    "# Make predictions on the testing set\n",
    "y_pred = model.predict(X_test)\n",
    "\n",
    "# Calculate mean squared error (MSE)\n",
    "mse = mean_squared_error(y_test, y_pred)\n",
    "rmse=sqrt(mean_squared_error(y_test, y_pred))\n",
    "print(f\"Mean Squared Error (MSE): {mse}\")\n",
    "print(f\"Root Mean Squared Error (RMSE): {rmse}\")\n",
    "\n",
    "# Calculate R-squared\n",
    "r2 = r2_score(y_test, y_pred)\n",
    "print(f\"R-squared: {r2}\")\n",
    "\n",
    "new_data = pd.DataFrame({\n",
    "    'team_members': [3],  # Provide the values for the features in your new data\n",
    "    'time_weeks': [7],\n",
    "    'presentation_score(1-5)': [4.5],\n",
    "    \n",
    "})\n",
    "\n",
    "# Make predictions on the new   data\n",
    "new_data_pred = model.predict(new_data)\n",
    "\n",
    "# Instantiate the VADER sentiment analyzer\n",
    "analyzer = SentimentIntensityAnalyzer()\n",
    "\n",
    "# Example sentence\n",
    "review = \" Great job on completing the project within the given timeframe.\"\n",
    "\n",
    "# Perform sentiment analysis\n",
    "sentiment_scores = analyzer.polarity_scores(review)\n",
    "\n",
    "# Get the compound sentiment score\n",
    "compound_score = sentiment_scores['compound']\n",
    "print(\"Sentiment Compound Score:\", compound_score)\n",
    "\n",
    "new_data_pred = model.predict(new_data)\n",
    "predicted_score = new_data_pred[0]\n",
    "\n",
    "predicted_score=predicted_score+compound_score\n",
    "print(\"Predicted Project Overall Score:\", predicted_score)\n",
    "\n",
    "if predicted_score >=90:\n",
    "    print(\"Wow! This team is well enough to be hired.\")\n",
    "elif predicted_score >50 and predicted_score < 90:\n",
    "    print(\"Satisfactory. More extra effort is needed to this team. \")\n",
    "elif predicted_score<50:\n",
    "    print(\"sorry! Low performance\")\n",
    "    \n",
    "    # Checking accuracy using R-squared score\n",
    "r2 = r2_score(y_test, y_pred)\n",
    "accuracy = r2 * 100\n",
    "print(f\"Accuracy: {accuracy}%\")\n",
    "    \n",
    "  "
   ]
  },
  {
   "cell_type": "code",
   "execution_count": 31,
   "metadata": {},
   "outputs": [
    {
     "name": "stdout",
     "output_type": "stream",
     "text": [
      "(243, 3)\n",
      "(61, 3)\n"
     ]
    }
   ],
   "source": [
    "print(X_train.shape)\n",
    "print(X_test.shape)"
   ]
  },
  {
   "cell_type": "code",
   "execution_count": 32,
   "metadata": {},
   "outputs": [
    {
     "name": "stdout",
     "output_type": "stream",
     "text": [
      "Mean Squared Error: 0.456848283688561\n",
      "Root Mean Squared Error: 0.6759055286713972\n",
      "R-squared Score: 0.9978040043843509\n",
      "Sentiment Compound Score: 0.6249\n",
      "Predicted Project Overall Score: 88.13879580086434\n",
      "Satisfactory. More extra effort is needed to this team. \n",
      "Accuracy: 99.7804004384351%\n"
     ]
    }
   ],
   "source": [
    "import pandas as pd  \n",
    "data=pd.read_csv('trial3.csv')\n",
    "from sklearn.model_selection import train_test_split\n",
    "from sklearn.ensemble import RandomForestRegressor\n",
    "from sklearn.metrics import mean_squared_error,r2_score\n",
    "from math import sqrt\n",
    "\n",
    "import nltk\n",
    "from nltk.sentiment import SentimentIntensityAnalyzer\n",
    "\n",
    "# Assuming you have your dataset in a pandas DataFrame named 'data'\n",
    "# The 'Project_Overall_score' column is the target variable\n",
    "\n",
    "# Splitting the data into training and testing sets\n",
    "X = data[['team_members','time_weeks','presentation_score(1-5)']]  # Features\n",
    "y = data['Project_Overall_score']  # Target variable\n",
    "\n",
    "X_train, X_test, y_train, y_test = train_test_split(X, y, test_size=0.4, random_state=42)\n",
    "\n",
    "# Training the model\n",
    "model = RandomForestRegressor()\n",
    "model.fit(X_train, y_train)\n",
    "\n",
    "# Predicting on the test set\n",
    "y_pred = model.predict(X_test)\n",
    "\n",
    "# Evaluating the model\n",
    "mse = mean_squared_error(y_test, y_pred)\n",
    "rmse=sqrt(mean_squared_error(y_test, y_pred))\n",
    "print('Mean Squared Error:', mse)\n",
    "print('Root Mean Squared Error:', rmse)\n",
    "\n",
    "# Calculate R-squared\n",
    "r2 = r2_score(y_test, y_pred)\n",
    "print(f\"R-squared Score: {r2}\")\n",
    "\n",
    "new_data = pd.DataFrame({\n",
    "    'team_members': [3],  # Provide the values for the features in your new data\n",
    "    'time_weeks':[7],\n",
    "    'presentation_score(1-5)': [4.5],\n",
    "    \n",
    "})\n",
    "\n",
    "# Make predictions on the new data\n",
    "new_data_pred = model.predict(new_data)\n",
    "\n",
    "# Instantiate the VADER sentiment analyzer\n",
    "analyzer = SentimentIntensityAnalyzer()\n",
    "\n",
    "# Example sentence\n",
    "review = \" Great job on completing the project within the given timeframe.\"\n",
    "\n",
    "# Perform sentiment analysis\n",
    "sentiment_scores = analyzer.polarity_scores(review)\n",
    "\n",
    "# Get the compound sentiment score\n",
    "compound_score = sentiment_scores['compound']\n",
    "print(\"Sentiment Compound Score:\", compound_score)\n",
    "\n",
    "predicted_score=predicted_score+compound_score\n",
    "\n",
    "print(\"Predicted Project Overall Score:\", predicted_score)\n",
    "\n",
    "if predicted_score >=90:\n",
    "    print(\"Wow! This team is well enough to be hired.\")\n",
    "elif predicted_score >50 and predicted_score < 90:\n",
    "    print(\"Satisfactory. More extra effort is needed to this team. \")\n",
    "elif predicted_score<50:\n",
    "    print(\"sorry! Low performance\")\n",
    "    \n",
    "    # Checking accuracy using R-squared score\n",
    "r2 = r2_score(y_test, y_pred)\n",
    "accuracy = r2 * 100\n",
    "print(f\"Accuracy: {accuracy}%\")"
   ]
  },
  {
   "cell_type": "code",
   "execution_count": 33,
   "metadata": {},
   "outputs": [
    {
     "name": "stdout",
     "output_type": "stream",
     "text": [
      "(182, 3)\n",
      "(122, 3)\n"
     ]
    }
   ],
   "source": [
    "print(X_train.shape)\n",
    "print(X_test.shape)"
   ]
  },
  {
   "cell_type": "code",
   "execution_count": 34,
   "metadata": {},
   "outputs": [
    {
     "name": "stdout",
     "output_type": "stream",
     "text": [
      "Mean Squared Error (MSE): 0.3340673202234969\n",
      "Root Mean Squared Error (RMSE): 0.5779855709474908\n",
      "R-squared: 0.9983941925651568\n",
      "Sentiment Compound Score: 0.6249\n",
      "Predicted Project Overall Score: 88.76369580086434\n",
      "Satisfactory. More extra effort is needed to this team. \n",
      "Accuracy: 99.83941925651568%\n"
     ]
    }
   ],
   "source": [
    "import numpy as np\n",
    "import pandas as pd\n",
    "\n",
    "data=pd.read_csv('trial3.csv')\n",
    "\n",
    "X = data[['team_members','time_weeks','presentation_score(1-5)']]\n",
    "y = data['Project_Overall_score']\n",
    "\n",
    "\n",
    "from sklearn.model_selection import train_test_split\n",
    "\n",
    "X_train, X_test, y_train, y_test = train_test_split(X, y, test_size=0.4, random_state=42)\n",
    "\n",
    "from sklearn.tree import DecisionTreeRegressor\n",
    "\n",
    "import nltk\n",
    "from nltk.sentiment import SentimentIntensityAnalyzer\n",
    "\n",
    "\n",
    "model = DecisionTreeRegressor()\n",
    "model.fit(X_train, y_train)\n",
    "\n",
    "from sklearn.metrics import mean_squared_error, r2_score\n",
    "\n",
    "from math import sqrt\n",
    "\n",
    "# Make predictions on the testing set\n",
    "y_pred = model.predict(X_test)\n",
    "\n",
    "# Calculate mean squared error (MSE)\n",
    "mse = mean_squared_error(y_test, y_pred)\n",
    "rmse=sqrt(mean_squared_error(y_test, y_pred))\n",
    "print(f\"Mean Squared Error (MSE): {mse}\")\n",
    "print(f\"Root Mean Squared Error (RMSE): {rmse}\")\n",
    "\n",
    "# Calculate R-squared\n",
    "r2 = r2_score(y_test, y_pred)\n",
    "print(f\"R-squared: {r2}\")\n",
    "\n",
    "new_data = pd.DataFrame({\n",
    "    'team_members': [3],  # Provide the values for the features in your new data\n",
    "    'time_weeks': [7],\n",
    "    'presentation_score(1-5)': [4.5],\n",
    "    \n",
    "})\n",
    "\n",
    "# Make predictions on the new data\n",
    "new_data_pred = model.predict(new_data)\n",
    "\n",
    "# Instantiate the VADER sentiment analyzer\n",
    "analyzer = SentimentIntensityAnalyzer()\n",
    "\n",
    "# Example sentence\n",
    "review = \" Great job on completing the project within the given timeframe.\"\n",
    "\n",
    "# Perform sentiment analysis\n",
    "sentiment_scores = analyzer.polarity_scores(review)\n",
    "\n",
    "# Get the compound sentiment score\n",
    "compound_score = sentiment_scores['compound']\n",
    "print(\"Sentiment Compound Score:\", compound_score)\n",
    "\n",
    "predicted_score=predicted_score+compound_score\n",
    "\n",
    "print(\"Predicted Project Overall Score:\", predicted_score)\n",
    "\n",
    "\n",
    "new_data_pred = model.predict(new_data)\n",
    "\n",
    "predicted_score = new_data_pred[0]\n",
    "\n",
    "\n",
    "\n",
    "if predicted_score >=90:\n",
    "    print(\"Wow! This team is well enough to be hired.\")\n",
    "elif predicted_score >50 and predicted_score < 90:\n",
    "    print(\"Satisfactory. More extra effort is needed to this team. \")\n",
    "elif predicted_score<50:\n",
    "    print(\"sorry! Low performance\")\n",
    "    \n",
    "    # Checking accuracy using  R-squared score\n",
    "r2 = r2_score(y_test, y_pred)\n",
    "accuracy = r2 * 100\n",
    "print(f\"Accuracy: {accuracy}%\")"
   ]
  },
  {
   "cell_type": "code",
   "execution_count": 35,
   "metadata": {},
   "outputs": [
    {
     "name": "stdout",
     "output_type": "stream",
     "text": [
      "(182, 3)\n",
      "(122, 3)\n"
     ]
    }
   ],
   "source": [
    "print(X_train.shape)\n",
    "print(X_test.shape)"
   ]
  },
  {
   "cell_type": "code",
   "execution_count": 36,
   "metadata": {},
   "outputs": [
    {
     "name": "stdout",
     "output_type": "stream",
     "text": [
      "{'neg': 0.0, 'neu': 0.687, 'pos': 0.313, 'compound': 0.6249}\n"
     ]
    },
    {
     "name": "stderr",
     "output_type": "stream",
     "text": [
      "[nltk_data] Downloading package vader_lexicon to\n",
      "[nltk_data]     C:\\Users\\chaud\\AppData\\Roaming\\nltk_data...\n",
      "[nltk_data]   Package vader_lexicon is already up-to-date!\n"
     ]
    }
   ],
   "source": [
    "\n",
    "import nltk\n",
    "nltk.download('vader_lexicon')\n",
    "\n",
    "from nltk.sentiment import SentimentIntensityAnalyzer\n",
    "\n",
    "# Instantiate the VADER sentiment analyzer\n",
    "analyzer = SentimentIntensityAnalyzer()\n",
    "\n",
    "# Example sentence\n",
    "review = \" Great job on completing the project within the given timeframe.\"\n",
    "# Perform sentiment analysis\n",
    "sentiment_scores = analyzer.polarity_scores(review)\n",
    "\n",
    "# Print the sentiment scores\n",
    "print(sentiment_scores)\n"
   ]
  },
  {
   "cell_type": "code",
   "execution_count": 37,
   "metadata": {},
   "outputs": [
    {
     "name": "stdout",
     "output_type": "stream",
     "text": [
      "Mean Squared Error (MSE): 0.053130280377183245\n",
      "Root Mean Squared Error (RMSE): 0.2305000658940974\n",
      "R-squared: 0.9997446113580104\n",
      "Sentiment Compound Score: 0.6249\n",
      "Predicted Project Overall Score: 89.09904191862121\n",
      "Satisfactory. More extra effort is needed by this team.\n",
      "Accuracy: 99.97446113580104%\n"
     ]
    },
    {
     "name": "stderr",
     "output_type": "stream",
     "text": [
      "[nltk_data] Downloading package vader_lexicon to\n",
      "[nltk_data]     C:\\Users\\chaud\\AppData\\Roaming\\nltk_data...\n",
      "[nltk_data]   Package vader_lexicon is already up-to-date!\n"
     ]
    }
   ],
   "source": [
    "import numpy as np\n",
    "import pandas as pd\n",
    "from sklearn.model_selection import train_test_split\n",
    "from sklearn.linear_model import LinearRegression\n",
    "from sklearn.metrics import mean_squared_error, r2_score\n",
    "from math import sqrt\n",
    "import nltk\n",
    "from nltk.sentiment import SentimentIntensityAnalyzer\n",
    "\n",
    "# Download the required lexicon\n",
    "nltk.download('vader_lexicon')\n",
    "\n",
    "# Read the data from CSV\n",
    "data = pd.read_csv('trial3.csv')\n",
    "\n",
    "X = data[['team_members', 'time_weeks', 'presentation_score(1-5)']]\n",
    "y = data['Project_Overall_score']\n",
    "\n",
    "# Split the data into training and testing sets\n",
    "X_train, X_test, y_train, y_test = train_test_split(X, y, test_size=0.4, random_state=42)\n",
    "\n",
    "# Train a linear regression model\n",
    "model = LinearRegression()\n",
    "model.fit(X_train, y_train)\n",
    "\n",
    "# Make predictions on the testing set\n",
    "y_pred = model.predict(X_test)\n",
    "\n",
    "# Calculate mean squared error (MSE) and root mean squared error (RMSE)\n",
    "mse = mean_squared_error(y_test, y_pred)\n",
    "rmse = sqrt(mse)\n",
    "print(f\"Mean Squared Error (MSE): {mse}\")\n",
    "print(f\"Root Mean Squared Error (RMSE): {rmse}\")\n",
    "\n",
    "# Calculate R-squared\n",
    "r2 = r2_score(y_test, y_pred)\n",
    "print(f\"R-squared: {r2}\")\n",
    "\n",
    "# Create new data for prediction\n",
    "new_data = pd.DataFrame({\n",
    "    'team_members': [3],\n",
    "    'time_weeks': [7],\n",
    "    'presentation_score(1-5)': [4.5],\n",
    "})\n",
    "\n",
    "# Make predictions on the new data\n",
    "new_data_pred = model.predict(new_data)\n",
    "predicted_score = new_data_pred[0]\n",
    "\n",
    "\n",
    "# Instantiate the VADER sentiment analyzer\n",
    "analyzer = SentimentIntensityAnalyzer()\n",
    "\n",
    "# Example sentence\n",
    "review = \" Great job on completing the project within the given timeframe.\"\n",
    "\n",
    "# Perform sentiment analysis\n",
    "sentiment_scores = analyzer.polarity_scores(review)\n",
    "\n",
    "# Get the compound sentiment score\n",
    "compound_score = sentiment_scores['compound']\n",
    "print(\"Sentiment Compound Score:\", compound_score)\n",
    "\n",
    "predicted_score=predicted_score+compound_score\n",
    "\n",
    "print(\"Predicted Project Overall Score:\", predicted_score)\n",
    "\n",
    "\n",
    "\n",
    "# Providing a message based on the predicted score\n",
    "if predicted_score>= 90:\n",
    "    print(\"Wow! This team is well enough to be hired.\")\n",
    "elif predicted_score > 50 and predicted_score < 90:\n",
    "    print(\"Satisfactory. More extra effort is needed by this team.\")\n",
    "elif predicted_score < 50:\n",
    "    print(\"Sorry! Low performance.\")\n",
    "    \n",
    "    # Checking accuracy using R-squared\n",
    "r2 = r2_score(y_test, y_pred)\n",
    "accuracy = r2 * 100\n",
    "print(f\"Accuracy: {accuracy}%\")\n"
   ]
  },
  {
   "cell_type": "code",
   "execution_count": 38,
   "metadata": {},
   "outputs": [
    {
     "name": "stdout",
     "output_type": "stream",
     "text": [
      "(182, 3)\n",
      "(122, 3)\n"
     ]
    }
   ],
   "source": [
    "print(X_train.shape)\n",
    "print(X_test.shape)"
   ]
  },
  {
   "cell_type": "code",
   "execution_count": 39,
   "metadata": {},
   "outputs": [
    {
     "ename": "KeyError",
     "evalue": "'mentors_review'",
     "output_type": "error",
     "traceback": [
      "\u001b[1;31m---------------------------------------------------------------------------\u001b[0m",
      "\u001b[1;31mKeyError\u001b[0m                                  Traceback (most recent call last)",
      "File \u001b[1;32mc:\\Users\\chaud\\python\\lib\\site-packages\\pandas\\core\\indexes\\base.py:3802\u001b[0m, in \u001b[0;36mIndex.get_loc\u001b[1;34m(self, key, method, tolerance)\u001b[0m\n\u001b[0;32m   3801\u001b[0m \u001b[39mtry\u001b[39;00m:\n\u001b[1;32m-> 3802\u001b[0m     \u001b[39mreturn\u001b[39;00m \u001b[39mself\u001b[39;49m\u001b[39m.\u001b[39;49m_engine\u001b[39m.\u001b[39;49mget_loc(casted_key)\n\u001b[0;32m   3803\u001b[0m \u001b[39mexcept\u001b[39;00m \u001b[39mKeyError\u001b[39;00m \u001b[39mas\u001b[39;00m err:\n",
      "File \u001b[1;32mc:\\Users\\chaud\\python\\lib\\site-packages\\pandas\\_libs\\index.pyx:138\u001b[0m, in \u001b[0;36mpandas._libs.index.IndexEngine.get_loc\u001b[1;34m()\u001b[0m\n",
      "File \u001b[1;32mc:\\Users\\chaud\\python\\lib\\site-packages\\pandas\\_libs\\index.pyx:165\u001b[0m, in \u001b[0;36mpandas._libs.index.IndexEngine.get_loc\u001b[1;34m()\u001b[0m\n",
      "File \u001b[1;32mpandas\\_libs\\hashtable_class_helper.pxi:5745\u001b[0m, in \u001b[0;36mpandas._libs.hashtable.PyObjectHashTable.get_item\u001b[1;34m()\u001b[0m\n",
      "File \u001b[1;32mpandas\\_libs\\hashtable_class_helper.pxi:5753\u001b[0m, in \u001b[0;36mpandas._libs.hashtable.PyObjectHashTable.get_item\u001b[1;34m()\u001b[0m\n",
      "\u001b[1;31mKeyError\u001b[0m: 'mentors_review'",
      "\nThe above exception was the direct cause of the following exception:\n",
      "\u001b[1;31mKeyError\u001b[0m                                  Traceback (most recent call last)",
      "Cell \u001b[1;32mIn[39], line 17\u001b[0m\n\u001b[0;32m     14\u001b[0m     \u001b[39mreturn\u001b[39;00m compound_score\n\u001b[0;32m     16\u001b[0m \u001b[39m# Apply sentiment analysis to the 'mentors_feedback' column and create a new column for sentiment scores\u001b[39;00m\n\u001b[1;32m---> 17\u001b[0m data[\u001b[39m'\u001b[39m\u001b[39msentiment_score\u001b[39m\u001b[39m'\u001b[39m] \u001b[39m=\u001b[39m data[\u001b[39m'\u001b[39;49m\u001b[39mmentors_review\u001b[39;49m\u001b[39m'\u001b[39;49m]\u001b[39m.\u001b[39mapply(calculate_sentiment_score)\n\u001b[0;32m     19\u001b[0m \u001b[39m# Print the updated dataframe\u001b[39;00m\n\u001b[0;32m     20\u001b[0m \u001b[39mprint\u001b[39m(data)\n",
      "File \u001b[1;32mc:\\Users\\chaud\\python\\lib\\site-packages\\pandas\\core\\frame.py:3807\u001b[0m, in \u001b[0;36mDataFrame.__getitem__\u001b[1;34m(self, key)\u001b[0m\n\u001b[0;32m   3805\u001b[0m \u001b[39mif\u001b[39;00m \u001b[39mself\u001b[39m\u001b[39m.\u001b[39mcolumns\u001b[39m.\u001b[39mnlevels \u001b[39m>\u001b[39m \u001b[39m1\u001b[39m:\n\u001b[0;32m   3806\u001b[0m     \u001b[39mreturn\u001b[39;00m \u001b[39mself\u001b[39m\u001b[39m.\u001b[39m_getitem_multilevel(key)\n\u001b[1;32m-> 3807\u001b[0m indexer \u001b[39m=\u001b[39m \u001b[39mself\u001b[39;49m\u001b[39m.\u001b[39;49mcolumns\u001b[39m.\u001b[39;49mget_loc(key)\n\u001b[0;32m   3808\u001b[0m \u001b[39mif\u001b[39;00m is_integer(indexer):\n\u001b[0;32m   3809\u001b[0m     indexer \u001b[39m=\u001b[39m [indexer]\n",
      "File \u001b[1;32mc:\\Users\\chaud\\python\\lib\\site-packages\\pandas\\core\\indexes\\base.py:3804\u001b[0m, in \u001b[0;36mIndex.get_loc\u001b[1;34m(self, key, method, tolerance)\u001b[0m\n\u001b[0;32m   3802\u001b[0m     \u001b[39mreturn\u001b[39;00m \u001b[39mself\u001b[39m\u001b[39m.\u001b[39m_engine\u001b[39m.\u001b[39mget_loc(casted_key)\n\u001b[0;32m   3803\u001b[0m \u001b[39mexcept\u001b[39;00m \u001b[39mKeyError\u001b[39;00m \u001b[39mas\u001b[39;00m err:\n\u001b[1;32m-> 3804\u001b[0m     \u001b[39mraise\u001b[39;00m \u001b[39mKeyError\u001b[39;00m(key) \u001b[39mfrom\u001b[39;00m \u001b[39merr\u001b[39;00m\n\u001b[0;32m   3805\u001b[0m \u001b[39mexcept\u001b[39;00m \u001b[39mTypeError\u001b[39;00m:\n\u001b[0;32m   3806\u001b[0m     \u001b[39m# If we have a listlike key, _check_indexing_error will raise\u001b[39;00m\n\u001b[0;32m   3807\u001b[0m     \u001b[39m#  InvalidIndexError. Otherwise we fall through and re-raise\u001b[39;00m\n\u001b[0;32m   3808\u001b[0m     \u001b[39m#  the TypeError.\u001b[39;00m\n\u001b[0;32m   3809\u001b[0m     \u001b[39mself\u001b[39m\u001b[39m.\u001b[39m_check_indexing_error(key)\n",
      "\u001b[1;31mKeyError\u001b[0m: 'mentors_review'"
     ]
    }
   ],
   "source": [
    "import pandas as pd\n",
    "from nltk.sentiment import SentimentIntensityAnalyzer\n",
    "\n",
    "# Read the CSV file\n",
    "trl = pd.read_csv('trial3.csv')\n",
    "\n",
    "# Instantiate the VADER sentiment analyzer\n",
    "analyzer = SentimentIntensityAnalyzer()\n",
    "\n",
    "# Function to calculate the compound sentiment score for a given feedback\n",
    "def calculate_sentiment_score(feedback):\n",
    "    sentiment_scores = analyzer.polarity_scores(feedback)\n",
    "    compound_score = sentiment_scores['compound']\n",
    "    return compound_score\n",
    "\n",
    "# Apply sentiment analysis to the 'mentors_feedback' column and create a new column for sentiment scores\n",
    "data['sentiment_score'] = data['mentors_review'].apply(calculate_sentiment_score)\n",
    "\n",
    "# Print the updated dataframe\n",
    "print(data)\n"
   ]
  },
  {
   "cell_type": "code",
   "execution_count": null,
   "metadata": {},
   "outputs": [
    {
     "name": "stdout",
     "output_type": "stream",
     "text": [
      "<class 'pandas.core.frame.DataFrame'>\n",
      "RangeIndex: 297 entries, 0 to 296\n",
      "Data columns (total 7 columns):\n",
      " #   Column                   Non-Null Count  Dtype  \n",
      "---  ------                   --------------  -----  \n",
      " 0   proj_id                  297 non-null    int64  \n",
      " 1   project_title            297 non-null    object \n",
      " 2   team_members             297 non-null    int64  \n",
      " 3   time(in weeks)           297 non-null    int64  \n",
      " 4   presentation_score(1-5)  297 non-null    float64\n",
      " 5   mentors_feedback         297 non-null    object \n",
      " 6   Project_Overall_score    297 non-null    float64\n",
      "dtypes: float64(2), int64(3), object(2)\n",
      "memory usage: 16.4+ KB\n"
     ]
    }
   ],
   "source": [
    "import pandas as pd\n",
    "dff=pd.read_csv('original.csv')\n",
    "dff.info()"
   ]
  },
  {
   "cell_type": "code",
   "execution_count": null,
   "metadata": {},
   "outputs": [],
   "source": [
    "import pandas as pd\n",
    "from nltk.sentiment import SentimentIntensityAnalyzer\n",
    "\n",
    "# Read the CSV file\n",
    "dff = pd.read_csv('original.csv')\n",
    "\n",
    "# Instantiate the VADER sentiment analyzer\n",
    "analyzer = SentimentIntensityAnalyzer()\n",
    "\n",
    "# Function to calculate the compound sentiment score for a given feedback\n",
    "def calculate_sentiment_score(feedback):\n",
    "    sentiment_scores = analyzer.polarity_scores(feedback)\n",
    "    compound_score = sentiment_scores['compound']\n",
    "    return compound_score\n",
    "\n",
    "# Apply sentiment analysis to the 'mentors_feedback' column and create a new column for sentiment scores\n",
    "dff['sentiment_score'] = dff['mentors_feedback'].apply(calculate_sentiment_score)\n",
    "\n",
    "# Export the dataframe to an Excel file\n",
    "dff.to_excel('sentiment_scores.xlsx', index=False)\n"
   ]
  },
  {
   "cell_type": "code",
   "execution_count": null,
   "metadata": {},
   "outputs": [
    {
     "name": "stdout",
     "output_type": "stream",
     "text": [
      "Mean Squared Error (MSE): 0.053130280377183245\n",
      "Root Mean Squared Error (RMSE): 0.2305000658940974\n",
      "Accuracy: 99.97446113580104%\n"
     ]
    },
    {
     "name": "stderr",
     "output_type": "stream",
     "text": [
      "[nltk_data] Downloading package vader_lexicon to\n",
      "[nltk_data]     C:\\Users\\chaud\\AppData\\Roaming\\nltk_data...\n",
      "[nltk_data]   Package vader_lexicon is already up-to-date!\n"
     ]
    }
   ],
   "source": [
    "import numpy as np\n",
    "import pandas as pd\n",
    "from sklearn.model_selection import train_test_split\n",
    "from sklearn.linear_model import LinearRegression\n",
    "from sklearn.metrics import mean_squared_error, r2_score\n",
    "from math import sqrt\n",
    "import nltk\n",
    "from nltk.sentiment import SentimentIntensityAnalyzer\n",
    "\n",
    "# Download the required lexicon\n",
    "nltk.download('vader_lexicon')\n",
    "\n",
    "# Read the data from CSV\n",
    "data = pd.read_csv('trial3.csv')\n",
    "\n",
    "X = data[['team_members', 'time_weeks', 'presentation_score(1-5)']]\n",
    "y = data['Project_Overall_score']\n",
    "\n",
    "# Split the data into training and testing sets\n",
    "X_train, X_test, y_train, y_test = train_test_split(X, y, test_size=0.4, random_state=42)\n",
    "\n",
    "# Train a linear regression model\n",
    "model = LinearRegression()\n",
    "model.fit(X_train, y_train)\n",
    "\n",
    "# Make predictions on the testing set\n",
    "y_pred = model.predict(X_test)\n",
    "\n",
    "# Calculate mean squared error (MSE) and root mean squared error (RMSE)\n",
    "mse = mean_squared_error(y_test, y_pred)\n",
    "rmse = sqrt(mse)\n",
    "print(f\"Mean Squared Error (MSE): {mse}\")\n",
    "print(f\"Root Mean Squared Error (RMSE): {rmse}\")\n",
    "\n",
    "# Calculate R-squared\n",
    "r2 = r2_score(y_test, y_pred)\n",
    "accuracy = r2 * 100\n",
    "print(f\"Accuracy: {accuracy}%\")\n"
   ]
  }
 ],
 "metadata": {
  "kernelspec": {
   "display_name": "base",
   "language": "python",
   "name": "python3"
  },
  "language_info": {
   "codemirror_mode": {
    "name": "ipython",
    "version": 3
   },
   "file_extension": ".py",
   "mimetype": "text/x-python",
   "name": "python",
   "nbconvert_exporter": "python",
   "pygments_lexer": "ipython3",
   "version": "3.10.9"
  },
  "orig_nbformat": 4
 },
 "nbformat": 4,
 "nbformat_minor": 2
}
